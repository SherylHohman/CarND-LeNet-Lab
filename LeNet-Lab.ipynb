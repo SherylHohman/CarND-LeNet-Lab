{
 "cells": [
  {
   "cell_type": "markdown",
   "metadata": {},
   "source": [
    "# LeNet Lab\n",
    "![LeNet Architecture](lenet.png)\n",
    "Source: Yan LeCun"
   ]
  },
  {
   "cell_type": "markdown",
   "metadata": {},
   "source": [
    "## Load Data\n",
    "\n",
    "Load the MNIST data, which comes pre-loaded with TensorFlow.\n",
    "\n",
    "You do not need to modify this section."
   ]
  },
  {
   "cell_type": "code",
   "execution_count": 1,
   "metadata": {
    "collapsed": false
   },
   "outputs": [
    {
     "name": "stdout",
     "output_type": "stream",
     "text": [
      "Extracting MNIST_data/train-images-idx3-ubyte.gz\n",
      "Extracting MNIST_data/train-labels-idx1-ubyte.gz\n",
      "Extracting MNIST_data/t10k-images-idx3-ubyte.gz\n",
      "Extracting MNIST_data/t10k-labels-idx1-ubyte.gz\n",
      "\n",
      "Image Shape: (28, 28, 1)\n",
      "\n",
      "Training Set:   55000 samples\n",
      "Validation Set: 5000 samples\n",
      "Test Set:       10000 samples\n"
     ]
    }
   ],
   "source": [
    "from tensorflow.examples.tutorials.mnist import input_data\n",
    "\n",
    "mnist = input_data.read_data_sets(\"MNIST_data/\", reshape=False)\n",
    "X_train, y_train           = mnist.train.images, mnist.train.labels\n",
    "X_validation, y_validation = mnist.validation.images, mnist.validation.labels\n",
    "X_test, y_test             = mnist.test.images, mnist.test.labels\n",
    "\n",
    "assert(len(X_train) == len(y_train))\n",
    "assert(len(X_validation) == len(y_validation))\n",
    "assert(len(X_test) == len(y_test))\n",
    "\n",
    "print()\n",
    "print(\"Image Shape: {}\".format(X_train[0].shape))\n",
    "print()\n",
    "print(\"Training Set:   {} samples\".format(len(X_train)))\n",
    "print(\"Validation Set: {} samples\".format(len(X_validation)))\n",
    "print(\"Test Set:       {} samples\".format(len(X_test)))"
   ]
  },
  {
   "cell_type": "markdown",
   "metadata": {},
   "source": [
    "The MNIST data that TensorFlow pre-loads comes as 28x28x1 images.\n",
    "\n",
    "However, the LeNet architecture only accepts 32x32xC images, where C is the number of color channels.\n",
    "\n",
    "In order to reformat the MNIST data into a shape that LeNet will accept, we pad the data with two rows of zeros on the top and bottom, and two columns of zeros on the left and right (28+2+2 = 32).\n",
    "\n",
    "You do not need to modify this section."
   ]
  },
  {
   "cell_type": "code",
   "execution_count": 2,
   "metadata": {
    "collapsed": false
   },
   "outputs": [
    {
     "name": "stdout",
     "output_type": "stream",
     "text": [
      "Updated Image Shape: (32, 32, 1)\n"
     ]
    }
   ],
   "source": [
    "import numpy as np\n",
    "\n",
    "# Pad images with 0s\n",
    "X_train      = np.pad(X_train, ((0,0),(2,2),(2,2),(0,0)), 'constant')\n",
    "X_validation = np.pad(X_validation, ((0,0),(2,2),(2,2),(0,0)), 'constant')\n",
    "X_test       = np.pad(X_test, ((0,0),(2,2),(2,2),(0,0)), 'constant')\n",
    "    \n",
    "print(\"Updated Image Shape: {}\".format(X_train[0].shape))"
   ]
  },
  {
   "cell_type": "markdown",
   "metadata": {},
   "source": [
    "## Visualize Data\n",
    "\n",
    "View a sample from the dataset.\n",
    "\n",
    "You do not need to modify this section."
   ]
  },
  {
   "cell_type": "code",
   "execution_count": 3,
   "metadata": {
    "collapsed": false
   },
   "outputs": [
    {
     "name": "stdout",
     "output_type": "stream",
     "text": [
      "5\n"
     ]
    },
    {
     "data": {
      "image/png": "[encoded data removed]",
      "text/plain": [
       "<matplotlib.figure.Figure at 0xa62f6d8>"
      ]
     },
     "metadata": {},
     "output_type": "display_data"
    }
   ],
   "source": [
    "import random\n",
    "import numpy as np\n",
    "import matplotlib.pyplot as plt\n",
    "%matplotlib inline\n",
    "\n",
    "index = random.randint(0, len(X_train))\n",
    "image = X_train[index].squeeze()\n",
    "\n",
    "plt.figure(figsize=(1,1))\n",
    "plt.imshow(image, cmap=\"gray\")\n",
    "print(y_train[index])"
   ]
  },
  {
   "cell_type": "markdown",
   "metadata": {},
   "source": [
    "## Preprocess Data\n",
    "\n",
    "Shuffle the training data.\n",
    "\n",
    "You do not need to modify this section."
   ]
  },
  {
   "cell_type": "code",
   "execution_count": 4,
   "metadata": {
    "collapsed": false
   },
   "outputs": [],
   "source": [
    "from sklearn.utils import shuffle\n",
    "\n",
    "X_train, y_train = shuffle(X_train, y_train)"
   ]
  },
  {
   "cell_type": "markdown",
   "metadata": {},
   "source": [
    "## Setup TensorFlow\n",
    "The `EPOCH` and `BATCH_SIZE` values affect the training speed and model accuracy.\n",
    "\n",
    "You do not need to modify this section."
   ]
  },
  {
   "cell_type": "code",
   "execution_count": 5,
   "metadata": {
    "collapsed": true
   },
   "outputs": [],
   "source": [
    "import tensorflow as tf\n",
    "\n",
    "EPOCHS = 10\n",
    "BATCH_SIZE = 128"
   ]
  },
  {
   "cell_type": "markdown",
   "metadata": {},
   "source": [
    "## TODO: Implement LeNet-5\n",
    "Implement the [LeNet-5](http://yann.lecun.com/exdb/lenet/) neural network architecture.\n",
    "\n",
    "This is the only cell you need to edit.\n",
    "### Input\n",
    "The LeNet architecture accepts a 32x32xC image as input, where C is the number of color channels. Since MNIST images are grayscale, C is 1 in this case.\n",
    "\n",
    "### Architecture\n",
    "**Layer 1: Convolutional.** The output shape should be 28x28x6.\n",
    "\n",
    "**Activation.** Your choice of activation function.\n",
    "\n",
    "**Pooling.** The output shape should be 14x14x6.\n",
    "\n",
    "**Layer 2: Convolutional.** The output shape should be 10x10x16.\n",
    "\n",
    "**Activation.** Your choice of activation function.\n",
    "\n",
    "**Pooling.** The output shape should be 5x5x16.\n",
    "\n",
    "**Flatten.** Flatten the output shape of the final pooling layer such that it's 1D instead of 3D. The easiest way to do is by using `tf.contrib.layers.flatten`, which is already imported for you.\n",
    "\n",
    "**Layer 3: Fully Connected.** This should have 120 outputs.\n",
    "\n",
    "**Activation.** Your choice of activation function.\n",
    "\n",
    "**Layer 4: Fully Connected.** This should have 84 outputs.\n",
    "\n",
    "**Activation.** Your choice of activation function.\n",
    "\n",
    "**Layer 5: Fully Connected (Logits).** This should have 10 outputs.\n",
    "\n",
    "### Output\n",
    "Return the result of the 2nd fully connected layer."
   ]
  },
  {
   "cell_type": "code",
   "execution_count": 216,
   "metadata": {
    "collapsed": false
   },
   "outputs": [],
   "source": [
    "from tensorflow.contrib.layers import flatten\n",
    "\n",
    "def LeNet(x):    \n",
    "    # Arguments used for tf.truncated_normal, randomly defines variables for the weights and biases for each layer\n",
    "    mu = 0\n",
    "    sigma = 0.1\n",
    "    \n",
    "    padding = \"VALID\"#\"SAME\" \"SAME\"#\n",
    "    if   padding == \"SAME\"  : pad = 0\n",
    "    elif padding == \"VALID\" : pad = 1\n",
    "    \n",
    "    stride = 1#2\n",
    "    strides = [1, stride, stride, 1]\n",
    "    \n",
    "    batch_size = 1\n",
    "    \n",
    "    # TODO: Layer 1: Convolutional. Input = 32x32x1. Output = 28x28x6.\n",
    "    \n",
    "    print(\"data input conv: 32x32x1 ?\", x.get_shape())\n",
    "\n",
    "    input_shape = x.get_shape()\n",
    "    in_height = int(input_shape[1])\n",
    "    in_width  = int(input_shape[2])\n",
    "    depth_in  = int(input_shape[3])\n",
    "    \n",
    "    out_height = 28\n",
    "    out_width  = 28\n",
    "    out_depth  = 6    \n",
    "    \n",
    "    #f_height = (out_height-1)*stride - 2*pad \n",
    "    #f_width  = (out_width -1)*stride - 2*pad \n",
    "    #f_height = -( in_height + 2*pad - (out_height-1)*stride )\n",
    "    #f_width  = -( in_width  + 2*pad - (out_width -1)*stride )\n",
    "    f_height =  (in_height + 1 - out_height*stride)\n",
    "    f_width  =  (in_width  + 1 - out_width *stride)\n",
    "    \n",
    "    #f_height = f_width = 5\n",
    "\n",
    "    #######################################\n",
    "    \n",
    "    print([f_height, f_width, depth_in, out_depth])\n",
    "    \n",
    "    Filter_Weights = tf.Variable(tf.truncated_normal([f_height, f_width, depth_in, out_depth]))\n",
    "    Filter_Bias    = tf.Variable(tf.zeros([out_depth]))\n",
    "    \n",
    "    layer1 = tf.nn.conv2d(x, Filter_Weights, strides, padding) + Filter_Bias\n",
    "    \n",
    "    print(\"layer1 conv: 28x28x6 ?\", layer1.get_shape())\n",
    "    \n",
    "\n",
    "    # TODO: Activation.\n",
    "    layer1 = tf.nn.relu(layer1)\n",
    "    print(\"layer1 RELU: 28x28x6 ?\", layer1.get_shape())\n",
    "    \n",
    "    # TODO: Pooling. Input = 28x28x6. Output = 14x14x6.\n",
    "    input_shape = layer1.get_shape()\n",
    "    in_height = int(input_shape[1])\n",
    "    in_width  = int(input_shape[2])\n",
    "    depth_in  = int(input_shape[3])\n",
    "    print(\"\\ndepth_in\", depth_in)\n",
    "\n",
    "    out_height = 14\n",
    "    out_width  = 14\n",
    "    out_depth  = depth_in\n",
    "    print(\"out_depth ?= depth_in\", out_depth)\n",
    "    \n",
    "    #p_height = (out_height-1)*stride - 2*pad \n",
    "    #p_width  = (out_width -1)*stride - 2*pad \n",
    "    #k = 1#3\n",
    "    #p_height =  (in_height + 1 - out_height*stride)\n",
    "    #p_width  =  (in_width  + 1 - out_width *stride)\n",
    "    \n",
    "    #trial and error - forget trying to calculate \n",
    "    p_height = p_width = 15\n",
    "    \n",
    "    #ksize = [batch_size, p_height, p_width, out_depth]\n",
    "    ksize = [batch_size, p_height, p_width, 1]\n",
    "    layer1 = tf.nn.max_pool(layer1, ksize, strides, padding)\n",
    "    \n",
    "    print(\"layer1 pool: 14x14x6 ?\", layer1.get_shape())\n",
    "\n",
    "    # TODO: Layer 2: Convolutional. Output = 10x10x16.\n",
    "    input_shape = layer1.get_shape()\n",
    "    in_height = int(input_shape[1])\n",
    "    in_width  = int(input_shape[2])\n",
    "    depth_in  = int(input_shape[3])\n",
    "\n",
    "    out_height = 10\n",
    "    out_width  = 10\n",
    "    out_depth  = 16    \n",
    "    \n",
    "    #f_height = (out_height-1)*stride - 2*pad \n",
    "    #f_width  = (out_width -1)*stride - 2*pad \n",
    "    f_height =  (in_height + 1 - out_height*stride)\n",
    "    f_width  =  (in_width  + 1 - out_width *stride)\n",
    "    \n",
    "    Filter_Weights = tf.Variable(tf.truncated_normal([f_height, f_width, depth_in, out_depth]))\n",
    "    Filter_Bias    = tf.Variable(tf.zeros([out_depth]))\n",
    "    \n",
    "    layer2 = tf.nn.conv2d(layer1, Filter_Weights, strides, padding) + Filter_Bias\n",
    "    print(\"layer2 conv2d: 10x10x16 ?\", layer2.get_shape())\n",
    "\n",
    "        \n",
    "    # TODO: Activation.\n",
    "    layer2 = tf.nn.relu(layer2)\n",
    "\n",
    "    # TODO: Pooling. Input = 10x10x16. Output = 5x5x16.\n",
    "    input_shape = layer2.get_shape()\n",
    "    in_height = int(input_shape[1])\n",
    "    in_width  = int(input_shape[2])\n",
    "    depth_in  = int(input_shape[3])\n",
    "\n",
    "    out_height = 14\n",
    "    out_width  = 14\n",
    "    depth      = depth_in # 16\n",
    "    \n",
    "    #p_height =  (in_height + 1 - out_height*stride)\n",
    "    #p_width  =  (in_width  + 1 - out_width *stride)    \n",
    "    #trial and error to find p_height, p_width\n",
    "    p_height = p_width = 6\n",
    "    \n",
    "    #ksize = [batch_size, p_height, p_width, depth]\n",
    "    ksize = [batch_size, p_height, p_width, 1]\n",
    "    layer2 = tf.nn.max_pool(layer2, ksize, strides, padding)\n",
    "    \n",
    "    print(\"layer2 pool: 5x5x16 ?\", layer2.get_shape())\n",
    "\n",
    "\n",
    "    # TODO: Flatten. Input = 5x5x16. Output = 400.\n",
    "    flat_23 = tf.contrib.layers.flatten(layer2)\n",
    "    print(\"\\nflattened: 400 ?\", flat_23.get_shape())\n",
    "    \n",
    "    # TODO: Layer 3: Fully Connected. Input = 400. Output = 120.\n",
    "    in_height = int(flat_23.get_shape()[1])\n",
    "    out_height = 120\n",
    "    \n",
    "    weights = tf.Variable(tf.truncated_normal([in_height, out_height]))\n",
    "    biases  = tf.Variable(tf.zeros([out_height]))\n",
    "    \n",
    "    layer3 = tf.add(tf.matmul(flat_23,weights),biases)\n",
    "    print(\"layer3: 120 ?\", layer3.get_shape())\n",
    "\n",
    "    # TODO: Activation.\n",
    "    layer3 = tf.nn.relu(layer3)\n",
    "\n",
    "    # TODO: Layer 4: Fully Connected. Input = 120. Output = 84.\n",
    "    in_height = int(layer3.get_shape()[1])\n",
    "    out_height = 84\n",
    "    print(\"\\n\", out_height, \"out_height\")\n",
    "\n",
    "    weights = tf.Variable(tf.truncated_normal([in_height, out_height]))\n",
    "    biases  = tf.Variable(tf.zeros([out_height]))\n",
    "    \n",
    "    layer4 = tf.add(tf.matmul(layer3,weights),biases)\n",
    "    print(\"layer4: 84 ?\", layer4.get_shape())\n",
    "    \n",
    "    # TODO: Activation.\n",
    "    layer4 = tf.nn.relu(layer4)\n",
    "\n",
    "    # TODO: Layer 5: Fully Connected. Input = 84. Output = 10.\n",
    "    in_height = int(layer4.get_shape()[1])\n",
    "    out_height = 10\n",
    "    print(\"\\n\", out_height, \"out_height\")\n",
    "\n",
    "    weights = tf.Variable(tf.truncated_normal([in_height, out_height]))\n",
    "    biases  = tf.Variable(tf.zeros([out_height]))\n",
    "    \n",
    "    logits = tf.add(tf.matmul(layer4, weights),biases)\n",
    "    print(\"layer5: 10 ?\", logits.get_shape())\n",
    "\n",
    "    \n",
    "    return logits"
   ]
  },
  {
   "cell_type": "markdown",
   "metadata": {},
   "source": [
    "## Features and Labels\n",
    "Train LeNet to classify [MNIST](http://yann.lecun.com/exdb/mnist/) data.\n",
    "\n",
    "`x` is a placeholder for a batch of input images.\n",
    "`y` is a placeholder for a batch of output labels.\n",
    "\n",
    "You do not need to modify this section."
   ]
  },
  {
   "cell_type": "code",
   "execution_count": 217,
   "metadata": {
    "collapsed": false
   },
   "outputs": [],
   "source": [
    "x = tf.placeholder(tf.float32, (None, 32, 32, 1))\n",
    "y = tf.placeholder(tf.int32, (None))\n",
    "one_hot_y = tf.one_hot(y, 10)"
   ]
  },
  {
   "cell_type": "markdown",
   "metadata": {},
   "source": [
    "## Training Pipeline\n",
    "Create a training pipeline that uses the model to classify MNIST data.\n",
    "\n",
    "You do not need to modify this section."
   ]
  },
  {
   "cell_type": "code",
   "execution_count": 218,
   "metadata": {
    "collapsed": false
   },
   "outputs": [
    {
     "name": "stdout",
     "output_type": "stream",
     "text": [
      "data input conv: 32x32x1 ? (?, 32, 32, 1)\n",
      "[5, 5, 1, 6]\n",
      "layer1 conv: 28x28x6 ? (?, 28, 28, 6)\n",
      "layer1 RELU: 28x28x6 ? (?, 28, 28, 6)\n",
      "\n",
      "depth_in 6\n",
      "out_depth ?= depth_in 6\n",
      "layer1 pool: 14x14x6 ? (?, 14, 14, 6)\n",
      "layer2 conv2d: 10x10x16 ? (?, 10, 10, 16)\n",
      "layer2 pool: 5x5x16 ? (?, 5, 5, 16)\n",
      "\n",
      "flattened: 400 ? (?, 400)\n",
      "layer3: 120 ? (?, 120)\n",
      "\n",
      " 84 out_height\n",
      "layer4: 84 ? (?, 84)\n",
      "\n",
      " 10 out_height\n",
      "layer5: 10 ? (?, 10)\n"
     ]
    }
   ],
   "source": [
    "rate = 0.001\n",
    "\n",
    "logits = LeNet(x)\n",
    "cross_entropy = tf.nn.softmax_cross_entropy_with_logits(logits, one_hot_y)\n",
    "loss_operation = tf.reduce_mean(cross_entropy)\n",
    "optimizer = tf.train.AdamOptimizer(learning_rate = rate)\n",
    "training_operation = optimizer.minimize(loss_operation)"
   ]
  },
  {
   "cell_type": "markdown",
   "metadata": {},
   "source": [
    "## Model Evaluation\n",
    "Evaluate how well the loss and accuracy of the model for a given dataset.\n",
    "\n",
    "You do not need to modify this section."
   ]
  },
  {
   "cell_type": "code",
   "execution_count": null,
   "metadata": {
    "collapsed": true
   },
   "outputs": [],
   "source": [
    "correct_prediction = tf.equal(tf.argmax(logits, 1), tf.argmax(one_hot_y, 1))\n",
    "accuracy_operation = tf.reduce_mean(tf.cast(correct_prediction, tf.float32))\n",
    "saver = tf.train.Saver()\n",
    "\n",
    "def evaluate(X_data, y_data):\n",
    "    num_examples = len(X_data)\n",
    "    total_accuracy = 0\n",
    "    sess = tf.get_default_session()\n",
    "    for offset in range(0, num_examples, BATCH_SIZE):\n",
    "        batch_x, batch_y = X_data[offset:offset+BATCH_SIZE], y_data[offset:offset+BATCH_SIZE]\n",
    "        accuracy = sess.run(accuracy_operation, feed_dict={x: batch_x, y: batch_y})\n",
    "        total_accuracy += (accuracy * len(batch_x))\n",
    "    return total_accuracy / num_examples"
   ]
  },
  {
   "cell_type": "markdown",
   "metadata": {},
   "source": [
    "## Train the Model\n",
    "Run the training data through the training pipeline to train the model.\n",
    "\n",
    "Before each epoch, shuffle the training set.\n",
    "\n",
    "After each epoch, measure the loss and accuracy of the validation set.\n",
    "\n",
    "Save the model after training.\n",
    "\n",
    "You do not need to modify this section."
   ]
  },
  {
   "cell_type": "code",
   "execution_count": null,
   "metadata": {
    "collapsed": false
   },
   "outputs": [],
   "source": [
    "with tf.Session() as sess:\n",
    "    sess.run(tf.global_variables_initializer())\n",
    "    num_examples = len(X_train)\n",
    "    \n",
    "    print(\"Training...\")\n",
    "    print()\n",
    "    for i in range(EPOCHS):\n",
    "        X_train, y_train = shuffle(X_train, y_train)\n",
    "        for offset in range(0, num_examples, BATCH_SIZE):\n",
    "            end = offset + BATCH_SIZE\n",
    "            batch_x, batch_y = X_train[offset:end], y_train[offset:end]\n",
    "            sess.run(training_operation, feed_dict={x: batch_x, y: batch_y})\n",
    "            \n",
    "        validation_accuracy = evaluate(X_validation, y_validation)\n",
    "        print(\"EPOCH {} ...\".format(i+1))\n",
    "        print(\"Validation Accuracy = {:.3f}\".format(validation_accuracy))\n",
    "        print()\n",
    "        \n",
    "    saver.save(sess, './lenet')\n",
    "    print(\"Model saved\")"
   ]
  },
  {
   "cell_type": "markdown",
   "metadata": {},
   "source": [
    "## Evaluate the Model\n",
    "Once you are completely satisfied with your model, evaluate the performance of the model on the test set.\n",
    "\n",
    "Be sure to only do this once!\n",
    "\n",
    "If you were to measure the performance of your trained model on the test set, then improve your model, and then measure the performance of your model on the test set again, that would invalidate your test results. You wouldn't get a true measure of how well your model would perform against real data.\n",
    "\n",
    "You do not need to modify this section."
   ]
  },
  {
   "cell_type": "code",
   "execution_count": null,
   "metadata": {
    "collapsed": false
   },
   "outputs": [],
   "source": [
    "with tf.Session() as sess:\n",
    "    saver.restore(sess, tf.train.latest_checkpoint('.'))\n",
    "\n",
    "    test_accuracy = evaluate(X_test, y_test)\n",
    "    print(\"Test Accuracy = {:.3f}\".format(test_accuracy))"
   ]
  }
 ],
 "metadata": {
  "anaconda-cloud": {},
  "kernelspec": {
   "display_name": "Python 3",
   "language": "python",
   "name": "python3"
  },
  "language_info": {
   "codemirror_mode": {
    "name": "ipython",
    "version": 3
   },
   "file_extension": ".py",
   "mimetype": "text/x-python",
   "name": "python",
   "nbconvert_exporter": "python",
   "pygments_lexer": "ipython3",
   "version": "3.5.2"
  },
  "widgets": {
   "state": {},
   "version": "1.1.2"
  }
 },
 "nbformat": 4,
 "nbformat_minor": 0
}
